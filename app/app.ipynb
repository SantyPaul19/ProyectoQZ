{
 "cells": [
  {
   "cell_type": "code",
   "execution_count": 72,
   "id": "fee16987-c1df-4595-b54b-92b3f3067c09",
   "metadata": {},
   "outputs": [],
   "source": [
    "import pandas as pd\n",
    "import sqlite3\n",
    "import matplotlib.pyplot as plt\n",
    "import numpy as np\n",
    "import pygwalker as pyg\n",
    "import random"
   ]
  },
  {
   "cell_type": "code",
   "execution_count": 2,
   "id": "b2da20b9-8967-4f1b-80f8-823b5fcbb6c8",
   "metadata": {},
   "outputs": [],
   "source": [
    "# Leer el archivo CSV\n",
    "df = pd.read_csv('..//data//diabetes.csv')"
   ]
  },
  {
   "cell_type": "code",
   "execution_count": 3,
   "id": "3226dd00-5e4f-4a74-96e2-825edab04021",
   "metadata": {},
   "outputs": [
    {
     "name": "stdout",
     "output_type": "stream",
     "text": [
      "   Pregnancies  Glucose  BloodPressure  SkinThickness  Insulin   BMI  \\\n",
      "0            6      148             72             35        0  33.6   \n",
      "1            1       85             66             29        0  26.6   \n",
      "2            8      183             64              0        0  23.3   \n",
      "3            1       89             66             23       94  28.1   \n",
      "4            0      137             40             35      168  43.1   \n",
      "5            5      116             74              0        0  25.6   \n",
      "6            3       78             50             32       88  31.0   \n",
      "7           10      115              0              0        0  35.3   \n",
      "8            2      197             70             45      543  30.5   \n",
      "9            8      125             96              0        0   0.0   \n",
      "\n",
      "   DiabetesPedigreeFunction  Age  Outcome  \n",
      "0                     0.627   50        1  \n",
      "1                     0.351   31        0  \n",
      "2                     0.672   32        1  \n",
      "3                     0.167   21        0  \n",
      "4                     2.288   33        1  \n",
      "5                     0.201   30        0  \n",
      "6                     0.248   26        1  \n",
      "7                     0.134   29        0  \n",
      "8                     0.158   53        1  \n",
      "9                     0.232   54        1  \n"
     ]
    }
   ],
   "source": [
    "# Mostrar las primeras filas para verificar\n",
    "print(df.head(10))"
   ]
  },
  {
   "cell_type": "code",
   "execution_count": 4,
   "id": "49b6ee9e-792b-4041-8cf7-cbdaaf5bf993",
   "metadata": {},
   "outputs": [],
   "source": [
    "# Conectar a la base de datos SQLite\n",
    "conn = sqlite3.connect('..//data//diabetes2.db')"
   ]
  },
  {
   "cell_type": "code",
   "execution_count": 5,
   "id": "117ba164-262b-4f3a-9bdb-a8610376fdaf",
   "metadata": {},
   "outputs": [],
   "source": [
    "# Leer la tabla completa en un DataFrame\n",
    "df_BD = pd.read_sql_query('SELECT * FROM diabetes_tab', conn)"
   ]
  },
  {
   "cell_type": "code",
   "execution_count": 6,
   "id": "8d03ba74-540a-4e46-8768-bbfa523d6511",
   "metadata": {},
   "outputs": [
    {
     "name": "stdout",
     "output_type": "stream",
     "text": [
      "   Diabetes_012  HighBP  HighChol  CholCheck   BMI  Smoker  Stroke  \\\n",
      "0           0.0     1.0       1.0        1.0  40.0     1.0     0.0   \n",
      "1           0.0     0.0       0.0        0.0  25.0     1.0     0.0   \n",
      "2           0.0     1.0       1.0        1.0  28.0     0.0     0.0   \n",
      "3           0.0     1.0       0.0        1.0  27.0     0.0     0.0   \n",
      "4           0.0     1.0       1.0        1.0  24.0     0.0     0.0   \n",
      "5           0.0     1.0       1.0        1.0  25.0     1.0     0.0   \n",
      "6           0.0     1.0       0.0        1.0  30.0     1.0     0.0   \n",
      "7           0.0     1.0       1.0        1.0  25.0     1.0     0.0   \n",
      "8           2.0     1.0       1.0        1.0  30.0     1.0     0.0   \n",
      "9           0.0     0.0       0.0        1.0  24.0     0.0     0.0   \n",
      "\n",
      "   HeartDiseaseorAttack  PhysActivity  Fruits  ...  AnyHealthcare  \\\n",
      "0                   0.0           0.0     0.0  ...            1.0   \n",
      "1                   0.0           1.0     0.0  ...            0.0   \n",
      "2                   0.0           0.0     1.0  ...            1.0   \n",
      "3                   0.0           1.0     1.0  ...            1.0   \n",
      "4                   0.0           1.0     1.0  ...            1.0   \n",
      "5                   0.0           1.0     1.0  ...            1.0   \n",
      "6                   0.0           0.0     0.0  ...            1.0   \n",
      "7                   0.0           1.0     0.0  ...            1.0   \n",
      "8                   1.0           0.0     1.0  ...            1.0   \n",
      "9                   0.0           0.0     0.0  ...            1.0   \n",
      "\n",
      "   NoDocbcCost  GenHlth  MentHlth  PhysHlth  DiffWalk  Sex   Age  Education  \\\n",
      "0          0.0      5.0      18.0      15.0       1.0  0.0   9.0        4.0   \n",
      "1          1.0      3.0       0.0       0.0       0.0  0.0   7.0        6.0   \n",
      "2          1.0      5.0      30.0      30.0       1.0  0.0   9.0        4.0   \n",
      "3          0.0      2.0       0.0       0.0       0.0  0.0  11.0        3.0   \n",
      "4          0.0      2.0       3.0       0.0       0.0  0.0  11.0        5.0   \n",
      "5          0.0      2.0       0.0       2.0       0.0  1.0  10.0        6.0   \n",
      "6          0.0      3.0       0.0      14.0       0.0  0.0   9.0        6.0   \n",
      "7          0.0      3.0       0.0       0.0       1.0  0.0  11.0        4.0   \n",
      "8          0.0      5.0      30.0      30.0       1.0  0.0   9.0        5.0   \n",
      "9          0.0      2.0       0.0       0.0       0.0  1.0   8.0        4.0   \n",
      "\n",
      "   Income  \n",
      "0     3.0  \n",
      "1     1.0  \n",
      "2     8.0  \n",
      "3     6.0  \n",
      "4     4.0  \n",
      "5     8.0  \n",
      "6     7.0  \n",
      "7     4.0  \n",
      "8     1.0  \n",
      "9     3.0  \n",
      "\n",
      "[10 rows x 22 columns]\n"
     ]
    }
   ],
   "source": [
    "# Mostrar las primeras filas\n",
    "print(df_BD.head(10))"
   ]
  },
  {
   "cell_type": "code",
   "execution_count": 7,
   "id": "c61c6084-0248-48e3-a4b4-fbea0761696a",
   "metadata": {},
   "outputs": [],
   "source": [
    "# Cerrar conexión\n",
    "conn.close()"
   ]
  },
  {
   "cell_type": "code",
   "execution_count": 8,
   "id": "aef1df6c-57c7-4a34-b13b-16bbefe51acc",
   "metadata": {},
   "outputs": [],
   "source": [
    "# Obtener conjuntos de columnas\n",
    "col_csv = set(df.columns)\n",
    "col_BD = set(df_BD.columns)"
   ]
  },
  {
   "cell_type": "code",
   "execution_count": 9,
   "id": "485b86ee-f0f2-4b15-afbb-210c95813e4f",
   "metadata": {},
   "outputs": [],
   "source": [
    "# Columnas únicas en SQLite (no en CSV)\n",
    "col_unicasBD = col_BD - col_csv\n",
    "\n",
    "# Columnas únicas en CSV (no en SQLite)\n",
    "col_unicas = col_csv - col_BD"
   ]
  },
  {
   "cell_type": "code",
   "execution_count": 10,
   "id": "10effa8e-17e6-462b-a29d-071cb16eecd8",
   "metadata": {},
   "outputs": [],
   "source": [
    "# Crear DataFrames solo con las columnas únicas\n",
    "df_unicas = df[list(col_unicas)] if col_unicasBD else pd.DataFrame()\n",
    "df_unicasBD = df_BD[list(col_unicasBD)] if col_unicas else pd.DataFrame()"
   ]
  },
  {
   "cell_type": "code",
   "execution_count": 11,
   "id": "9e089f5f-6367-4170-bd7f-b0a0b2262a47",
   "metadata": {},
   "outputs": [],
   "source": [
    "# Combinar ambos DataFrames (lado a lado)\n",
    "df_combinada = pd.concat([df_unicas, df_unicasBD], axis=1)"
   ]
  },
  {
   "cell_type": "code",
   "execution_count": 75,
   "id": "8f4a45cd-ed52-4738-9497-d60ed7bc533f",
   "metadata": {},
   "outputs": [],
   "source": [
    "# Crear una columna con provincias aleatorias para hacer varias consultas\n",
    "def crear_provincias(provincias):\n",
    "    \n",
    "    return [random.choice(provincias) for _ in range(768)]"
   ]
  },
  {
   "cell_type": "code",
   "execution_count": 76,
   "id": "688be671-4860-4212-b918-cf5e4604b225",
   "metadata": {},
   "outputs": [],
   "source": [
    "ciudades = [\"Azuay\", \"Bolivar\", \"Cañar\", \"Carchi\", \"Chimborazo\", \"Cotopaxi\", \"El Oro\", \"Esmeraldas\", \"Galapagos\", \"Guayas\", \"Imbabura\", \"Loja\", \"Los Rios\", \"Manabi\", \"Morona Santiago\", \"Napo\", \"Orellana\", \"Pastaza\", \"Pichincha\", \"Santa Elena\", \"Santo Domingo de los Tsáchilas\", \"Sucumbios\", \"Tungurahua\", \"Zamora\" ]\n",
    "ciudades_r = crear_provincias(ciudades)"
   ]
  },
  {
   "cell_type": "code",
   "execution_count": 77,
   "id": "6d10b2fb-75e2-4e13-b0ae-06bd88c46772",
   "metadata": {},
   "outputs": [],
   "source": [
    "df_combinada['ciudades'] = ciudades_r"
   ]
  },
  {
   "cell_type": "code",
   "execution_count": 78,
   "id": "819c007b-ac35-4447-820e-df75c3bd4889",
   "metadata": {},
   "outputs": [
    {
     "name": "stdout",
     "output_type": "stream",
     "text": [
      "   BloodPressure  DiabetesPedigreeFunction  Glucose  Outcome  Insulin  \\\n",
      "0             72                     0.627      148        1        0   \n",
      "1             66                     0.351       85        0        0   \n",
      "2             64                     0.672      183        1        0   \n",
      "3             66                     0.167       89        0       94   \n",
      "4             40                     2.288      137        1      168   \n",
      "5             74                     0.201      116        0        0   \n",
      "6             50                     0.248       78        1       88   \n",
      "7              0                     0.134      115        0        0   \n",
      "8             70                     0.158      197        1      543   \n",
      "9             96                     0.232      125        1        0   \n",
      "\n",
      "   Pregnancies  SkinThickness  NoDocbcCost  CholCheck  PhysHlth  ...  Fruits  \\\n",
      "0            6             35          0.0        1.0      15.0  ...     0.0   \n",
      "1            1             29          1.0        0.0       0.0  ...     0.0   \n",
      "2            8              0          1.0        1.0      30.0  ...     1.0   \n",
      "3            1             23          0.0        1.0       0.0  ...     1.0   \n",
      "4            0             35          0.0        1.0       0.0  ...     1.0   \n",
      "5            5              0          0.0        1.0       2.0  ...     1.0   \n",
      "6            3             32          0.0        1.0      14.0  ...     0.0   \n",
      "7           10              0          0.0        1.0       0.0  ...     0.0   \n",
      "8            2             45          0.0        1.0      30.0  ...     1.0   \n",
      "9            8              0          0.0        1.0       0.0  ...     0.0   \n",
      "\n",
      "   Income  Smoker  HighBP  MentHlth  HvyAlcoholConsump  DiffWalk  Stroke  \\\n",
      "0     3.0     1.0     1.0      18.0                0.0       1.0     0.0   \n",
      "1     1.0     1.0     0.0       0.0                0.0       0.0     0.0   \n",
      "2     8.0     0.0     1.0      30.0                0.0       1.0     0.0   \n",
      "3     6.0     0.0     1.0       0.0                0.0       0.0     0.0   \n",
      "4     4.0     0.0     1.0       3.0                0.0       0.0     0.0   \n",
      "5     8.0     1.0     1.0       0.0                0.0       0.0     0.0   \n",
      "6     7.0     1.0     1.0       0.0                0.0       0.0     0.0   \n",
      "7     4.0     1.0     1.0       0.0                0.0       1.0     0.0   \n",
      "8     1.0     1.0     1.0      30.0                0.0       1.0     0.0   \n",
      "9     3.0     0.0     0.0       0.0                0.0       0.0     0.0   \n",
      "\n",
      "   HighChol    ciudades  \n",
      "0       1.0  Esmeraldas  \n",
      "1       0.0  Chimborazo  \n",
      "2       1.0   Pichincha  \n",
      "3       0.0  Chimborazo  \n",
      "4       1.0        Loja  \n",
      "5       1.0      El Oro  \n",
      "6       0.0      Zamora  \n",
      "7       1.0      El Oro  \n",
      "8       1.0        Napo  \n",
      "9       0.0        Napo  \n",
      "\n",
      "[10 rows x 28 columns]\n"
     ]
    }
   ],
   "source": [
    "print(df_combinada.head(10))"
   ]
  },
  {
   "cell_type": "code",
   "execution_count": 79,
   "id": "e5787cfc-54a7-4a5e-9012-412964e9bce9",
   "metadata": {},
   "outputs": [],
   "source": [
    "# Guardar a CSV\n",
    "df_combinada.to_csv('..//data//diabetes_combinada.csv', index=False)"
   ]
  },
  {
   "cell_type": "code",
   "execution_count": 80,
   "id": "197e5f61-58ad-4776-92df-516120bcf720",
   "metadata": {},
   "outputs": [],
   "source": [
    "# Graficos de matplotlib\n",
    "# Calcular media de cada columna única de dataset resultante\n",
    "media = df_combinada.mean(numeric_only=True)"
   ]
  },
  {
   "cell_type": "code",
   "execution_count": 81,
   "id": "6167d9b8-7d7d-4b38-9223-bc566973963f",
   "metadata": {},
   "outputs": [
    {
     "data": {
      "image/png": "[encoded data removed]",
      "text/plain": [
       "<Figure size 1000x600 with 1 Axes>"
      ]
     },
     "metadata": {},
     "output_type": "display_data"
    }
   ],
   "source": [
    "# Graficar\n",
    "plt.figure(figsize=(10,6))\n",
    "media.plot(kind='bar', color='purple')\n",
    "plt.title('Media de columnas numéricas en la base resultante')\n",
    "plt.xlabel('Detalles Clinicos')\n",
    "plt.ylabel('Media')\n",
    "plt.xticks(rotation=45, ha='right')\n",
    "plt.tight_layout()\n",
    "plt.savefig(\"..//image//Matplotlib.jpg\")\n",
    "plt.show()"
   ]
  },
  {
   "cell_type": "code",
   "execution_count": 82,
   "id": "2b4b897f-b240-48c2-a5d8-2096a7f791be",
   "metadata": {},
   "outputs": [],
   "source": [
    "from bokeh.plotting import figure, show, output_notebook\n",
    "from bokeh.models import ColumnDataSource"
   ]
  },
  {
   "cell_type": "code",
   "execution_count": 83,
   "id": "516ad79e-0330-460e-ace3-93600b776315",
   "metadata": {},
   "outputs": [
    {
     "name": "stdout",
     "output_type": "stream",
     "text": [
      "Requirement already satisfied: bokeh in c:\\users\\santi\\onedrive\\escritorio\\maestria\\entornos\\clases\\lib\\site-packages (3.7.3)\n",
      "Requirement already satisfied: Jinja2>=2.9 in c:\\users\\santi\\onedrive\\escritorio\\maestria\\entornos\\clases\\lib\\site-packages (from bokeh) (3.1.6)\n",
      "Requirement already satisfied: contourpy>=1.2 in c:\\users\\santi\\onedrive\\escritorio\\maestria\\entornos\\clases\\lib\\site-packages (from bokeh) (1.3.2)\n",
      "Requirement already satisfied: narwhals>=1.13 in c:\\users\\santi\\onedrive\\escritorio\\maestria\\entornos\\clases\\lib\\site-packages (from bokeh) (1.38.2)\n",
      "Requirement already satisfied: numpy>=1.16 in c:\\users\\santi\\onedrive\\escritorio\\maestria\\entornos\\clases\\lib\\site-packages (from bokeh) (2.2.5)\n",
      "Requirement already satisfied: packaging>=16.8 in c:\\users\\santi\\onedrive\\escritorio\\maestria\\entornos\\clases\\lib\\site-packages (from bokeh) (24.2)\n",
      "Requirement already satisfied: pandas>=1.2 in c:\\users\\santi\\onedrive\\escritorio\\maestria\\entornos\\clases\\lib\\site-packages (from bokeh) (2.2.3)\n",
      "Requirement already satisfied: pillow>=7.1.0 in c:\\users\\santi\\onedrive\\escritorio\\maestria\\entornos\\clases\\lib\\site-packages (from bokeh) (11.2.1)\n",
      "Requirement already satisfied: PyYAML>=3.10 in c:\\users\\santi\\onedrive\\escritorio\\maestria\\entornos\\clases\\lib\\site-packages (from bokeh) (6.0.2)\n",
      "Requirement already satisfied: tornado>=6.2 in c:\\users\\santi\\onedrive\\escritorio\\maestria\\entornos\\clases\\lib\\site-packages (from bokeh) (6.4.2)\n",
      "Requirement already satisfied: xyzservices>=2021.09.1 in c:\\users\\santi\\onedrive\\escritorio\\maestria\\entornos\\clases\\lib\\site-packages (from bokeh) (2025.4.0)\n",
      "Requirement already satisfied: MarkupSafe>=2.0 in c:\\users\\santi\\onedrive\\escritorio\\maestria\\entornos\\clases\\lib\\site-packages (from Jinja2>=2.9->bokeh) (3.0.2)\n",
      "Requirement already satisfied: python-dateutil>=2.8.2 in c:\\users\\santi\\onedrive\\escritorio\\maestria\\entornos\\clases\\lib\\site-packages (from pandas>=1.2->bokeh) (2.9.0.post0)\n",
      "Requirement already satisfied: pytz>=2020.1 in c:\\users\\santi\\onedrive\\escritorio\\maestria\\entornos\\clases\\lib\\site-packages (from pandas>=1.2->bokeh) (2025.2)\n",
      "Requirement already satisfied: tzdata>=2022.7 in c:\\users\\santi\\onedrive\\escritorio\\maestria\\entornos\\clases\\lib\\site-packages (from pandas>=1.2->bokeh) (2025.2)\n",
      "Requirement already satisfied: six>=1.5 in c:\\users\\santi\\onedrive\\escritorio\\maestria\\entornos\\clases\\lib\\site-packages (from python-dateutil>=2.8.2->pandas>=1.2->bokeh) (1.17.0)\n"
     ]
    }
   ],
   "source": [
    "# Graficos de bokeh calcular cuantas peronas tienen glucosa mayor a 20 \n",
    "!pip install bokeh"
   ]
  },
  {
   "cell_type": "code",
   "execution_count": 84,
   "id": "63700699-0e51-4fa3-9c00-aa700abc9033",
   "metadata": {},
   "outputs": [
    {
     "name": "stdout",
     "output_type": "stream",
     "text": [
      "Requirement already satisfied: selenium in c:\\users\\santi\\onedrive\\escritorio\\maestria\\entornos\\clases\\lib\\site-packages (4.33.0)\n",
      "Requirement already satisfied: urllib3~=2.4.0 in c:\\users\\santi\\onedrive\\escritorio\\maestria\\entornos\\clases\\lib\\site-packages (from urllib3[socks]~=2.4.0->selenium) (2.4.0)\n",
      "Requirement already satisfied: trio~=0.30.0 in c:\\users\\santi\\onedrive\\escritorio\\maestria\\entornos\\clases\\lib\\site-packages (from selenium) (0.30.0)\n",
      "Requirement already satisfied: trio-websocket~=0.12.2 in c:\\users\\santi\\onedrive\\escritorio\\maestria\\entornos\\clases\\lib\\site-packages (from selenium) (0.12.2)\n",
      "Requirement already satisfied: certifi>=2025.4.26 in c:\\users\\santi\\onedrive\\escritorio\\maestria\\entornos\\clases\\lib\\site-packages (from selenium) (2025.4.26)\n",
      "Requirement already satisfied: typing_extensions~=4.13.2 in c:\\users\\santi\\onedrive\\escritorio\\maestria\\entornos\\clases\\lib\\site-packages (from selenium) (4.13.2)\n",
      "Requirement already satisfied: websocket-client~=1.8.0 in c:\\users\\santi\\onedrive\\escritorio\\maestria\\entornos\\clases\\lib\\site-packages (from selenium) (1.8.0)\n",
      "Requirement already satisfied: attrs>=23.2.0 in c:\\users\\santi\\onedrive\\escritorio\\maestria\\entornos\\clases\\lib\\site-packages (from trio~=0.30.0->selenium) (25.3.0)\n",
      "Requirement already satisfied: sortedcontainers in c:\\users\\santi\\onedrive\\escritorio\\maestria\\entornos\\clases\\lib\\site-packages (from trio~=0.30.0->selenium) (2.4.0)\n",
      "Requirement already satisfied: idna in c:\\users\\santi\\onedrive\\escritorio\\maestria\\entornos\\clases\\lib\\site-packages (from trio~=0.30.0->selenium) (3.10)\n",
      "Requirement already satisfied: outcome in c:\\users\\santi\\onedrive\\escritorio\\maestria\\entornos\\clases\\lib\\site-packages (from trio~=0.30.0->selenium) (1.3.0.post0)\n",
      "Requirement already satisfied: sniffio>=1.3.0 in c:\\users\\santi\\onedrive\\escritorio\\maestria\\entornos\\clases\\lib\\site-packages (from trio~=0.30.0->selenium) (1.3.1)\n",
      "Requirement already satisfied: cffi>=1.14 in c:\\users\\santi\\onedrive\\escritorio\\maestria\\entornos\\clases\\lib\\site-packages (from trio~=0.30.0->selenium) (1.17.1)\n",
      "Requirement already satisfied: wsproto>=0.14 in c:\\users\\santi\\onedrive\\escritorio\\maestria\\entornos\\clases\\lib\\site-packages (from trio-websocket~=0.12.2->selenium) (1.2.0)\n",
      "Requirement already satisfied: pysocks!=1.5.7,<2.0,>=1.5.6 in c:\\users\\santi\\onedrive\\escritorio\\maestria\\entornos\\clases\\lib\\site-packages (from urllib3[socks]~=2.4.0->selenium) (1.7.1)\n",
      "Requirement already satisfied: pycparser in c:\\users\\santi\\onedrive\\escritorio\\maestria\\entornos\\clases\\lib\\site-packages (from cffi>=1.14->trio~=0.30.0->selenium) (2.22)\n",
      "Requirement already satisfied: h11<1,>=0.9.0 in c:\\users\\santi\\onedrive\\escritorio\\maestria\\entornos\\clases\\lib\\site-packages (from wsproto>=0.14->trio-websocket~=0.12.2->selenium) (0.16.0)\n",
      "Note: you may need to restart the kernel to use updated packages.\n"
     ]
    }
   ],
   "source": [
    "pip install selenium"
   ]
  },
  {
   "cell_type": "code",
   "execution_count": 85,
   "id": "2a7ded46-5919-4739-b8e0-98f9895b0aa7",
   "metadata": {},
   "outputs": [
    {
     "data": {
      "text/html": [
       "    <style>\n",
       "        .bk-notebook-logo {\n",
       "            display: block;\n",
       "            width: 20px;\n",
       "            height: 20px;\n",
       "            background-image: url(data:image/png;base64,iVBORw0KGgoAAAANSUhEUgAAABQAAAAUCAYAAACNiR0NAAAABHNCSVQICAgIfAhkiAAAAAlwSFlzAAALEgAACxIB0t1+/AAAABx0RVh0U29mdHdhcmUAQWRvYmUgRmlyZXdvcmtzIENTNui8sowAAAOkSURBVDiNjZRtaJVlGMd/1/08zzln5zjP1LWcU9N0NkN8m2CYjpgQYQXqSs0I84OLIC0hkEKoPtiH3gmKoiJDU7QpLgoLjLIQCpEsNJ1vqUOdO7ppbuec5+V+rj4ctwzd8IIbbi6u+8f1539dt3A78eXC7QizUF7gyV1fD1Yqg4JWz84yffhm0qkFqBogB9rM8tZdtwVsPUhWhGcFJngGeWrPzHm5oaMmkfEg1usvLFyc8jLRqDOMru7AyC8saQr7GG7f5fvDeH7Ej8CM66nIF+8yngt6HWaKh7k49Soy9nXurCi1o3qUbS3zWfrYeQDTB/Qj6kX6Ybhw4B+bOYoLKCC9H3Nu/leUTZ1JdRWkkn2ldcCamzrcf47KKXdAJllSlxAOkRgyHsGC/zRday5Qld9DyoM4/q/rUoy/CXh3jzOu3bHUVZeU+DEn8FInkPBFlu3+nW3Nw0mk6vCDiWg8CeJaxEwuHS3+z5RgY+YBR6V1Z1nxSOfoaPa4LASWxxdNp+VWTk7+4vzaou8v8PN+xo+KY2xsw6une2frhw05CTYOmQvsEhjhWjn0bmXPjpE1+kplmmkP3suftwTubK9Vq22qKmrBhpY4jvd5afdRA3wGjFAgcnTK2s4hY0/GPNIb0nErGMCRxWOOX64Z8RAC4oCXdklmEvcL8o0BfkNK4lUg9HTl+oPlQxdNo3Mg4Nv175e/1LDGzZen30MEjRUtmXSfiTVu1kK8W4txyV6BMKlbgk3lMwYCiusNy9fVfvvwMxv8Ynl6vxoByANLTWplvuj/nF9m2+PDtt1eiHPBr1oIfhCChQMBw6Aw0UulqTKZdfVvfG7VcfIqLG9bcldL/+pdWTLxLUy8Qq38heUIjh4XlzZxzQm19lLFlr8vdQ97rjZVOLf8nclzckbcD4wxXMidpX30sFd37Fv/GtwwhzhxGVAprjbg0gCAEeIgwCZyTV2Z1REEW8O4py0wsjeloKoMr6iCY6dP92H6Vw/oTyICIthibxjm/DfN9lVz8IqtqKYLUXfoKVMVQVVJOElGjrnnUt9T9wbgp8AyYKaGlqingHZU/uG2NTZSVqwHQTWkx9hxjkpWDaCg6Ckj5qebgBVbT3V3NNXMSiWSDdGV3hrtzla7J+duwPOToIg42ChPQOQjspnSlp1V+Gjdged7+8UN5CRAV7a5EdFNwCjEaBR27b3W890TE7g24NAP/mMDXRWrGoFPQI9ls/MWO2dWFAar/xcOIImbbpA3zgAAAABJRU5ErkJggg==);\n",
       "        }\n",
       "    </style>\n",
       "    <div>\n",
       "        <a href=\"https://bokeh.org\" target=\"_blank\" class=\"bk-notebook-logo\"></a>\n",
       "        <span id=\"c2bc6348-25d4-4d4a-abf7-410e9cc87ae6\">Loading BokehJS ...</span>\n",
       "    </div>\n"
      ]
     },
     "metadata": {},
     "output_type": "display_data"
    },
    {
     "data": {
      "application/javascript": [
       "'use strict';\n",
       "(function(root) {\n",
       "  function now() {\n",
       "    return new Date();\n",
       "  }\n",
       "\n",
       "  const force = true;\n",
       "\n",
       "  if (typeof root._bokeh_onload_callbacks === \"undefined\" || force === true) {\n",
       "    root._bokeh_onload_callbacks = [];\n",
       "    root._bokeh_is_loading = undefined;\n",
       "  }\n",
       "\n",
       "const JS_MIME_TYPE = 'application/javascript';\n",
       "  const HTML_MIME_TYPE = 'text/html';\n",
       "  const EXEC_MIME_TYPE = 'application/vnd.bokehjs_exec.v0+json';\n",
       "  const CLASS_NAME = 'output_bokeh rendered_html';\n",
       "\n",
       "  /**\n",
       "   * Render data to the DOM node\n",
       "   */\n",
       "  function render(props, node) {\n",
       "    const script = document.createElement(\"script\");\n",
       "    node.appendChild(script);\n",
       "  }\n",
       "\n",
       "  /**\n",
       "   * Handle when an output is cleared or removed\n",
       "   */\n",
       "  function handleClearOutput(event, handle) {\n",
       "    function drop(id) {\n",
       "      const view = Bokeh.index.get_by_id(id)\n",
       "      if (view != null) {\n",
       "        view.model.document.clear()\n",
       "        Bokeh.index.delete(view)\n",
       "      }\n",
       "    }\n",
       "\n",
       "    const cell = handle.cell;\n",
       "\n",
       "    const id = cell.output_area._bokeh_element_id;\n",
       "    const server_id = cell.output_area._bokeh_server_id;\n",
       "\n",
       "    // Clean up Bokeh references\n",
       "    if (id != null) {\n",
       "      drop(id)\n",
       "    }\n",
       "\n",
       "    if (server_id !== undefined) {\n",
       "      // Clean up Bokeh references\n",
       "      const cmd_clean = \"from bokeh.io.state import curstate; print(curstate().uuid_to_server['\" + server_id + \"'].get_sessions()[0].document.roots[0]._id)\";\n",
       "      cell.notebook.kernel.execute(cmd_clean, {\n",
       "        iopub: {\n",
       "          output: function(msg) {\n",
       "            const id = msg.content.text.trim()\n",
       "            drop(id)\n",
       "          }\n",
       "        }\n",
       "      });\n",
       "      // Destroy server and session\n",
       "      const cmd_destroy = \"import bokeh.io.notebook as ion; ion.destroy_server('\" + server_id + \"')\";\n",
       "      cell.notebook.kernel.execute(cmd_destroy);\n",
       "    }\n",
       "  }\n",
       "\n",
       "  /**\n",
       "   * Handle when a new output is added\n",
       "   */\n",
       "  function handleAddOutput(event, handle) {\n",
       "    const output_area = handle.output_area;\n",
       "    const output = handle.output;\n",
       "\n",
       "    // limit handleAddOutput to display_data with EXEC_MIME_TYPE content only\n",
       "    if ((output.output_type != \"display_data\") || (!Object.prototype.hasOwnProperty.call(output.data, EXEC_MIME_TYPE))) {\n",
       "      return\n",
       "    }\n",
       "\n",
       "    const toinsert = output_area.element.find(\".\" + CLASS_NAME.split(' ')[0]);\n",
       "\n",
       "    if (output.metadata[EXEC_MIME_TYPE][\"id\"] !== undefined) {\n",
       "      toinsert[toinsert.length - 1].firstChild.textContent = output.data[JS_MIME_TYPE];\n",
       "      // store reference to embed id on output_area\n",
       "      output_area._bokeh_element_id = output.metadata[EXEC_MIME_TYPE][\"id\"];\n",
       "    }\n",
       "    if (output.metadata[EXEC_MIME_TYPE][\"server_id\"] !== undefined) {\n",
       "      const bk_div = document.createElement(\"div\");\n",
       "      bk_div.innerHTML = output.data[HTML_MIME_TYPE];\n",
       "      const script_attrs = bk_div.children[0].attributes;\n",
       "      for (let i = 0; i < script_attrs.length; i++) {\n",
       "        toinsert[toinsert.length - 1].firstChild.setAttribute(script_attrs[i].name, script_attrs[i].value);\n",
       "        toinsert[toinsert.length - 1].firstChild.textContent = bk_div.children[0].textContent\n",
       "      }\n",
       "      // store reference to server id on output_area\n",
       "      output_area._bokeh_server_id = output.metadata[EXEC_MIME_TYPE][\"server_id\"];\n",
       "    }\n",
       "  }\n",
       "\n",
       "  function register_renderer(events, OutputArea) {\n",
       "\n",
       "    function append_mime(data, metadata, element) {\n",
       "      // create a DOM node to render to\n",
       "      const toinsert = this.create_output_subarea(\n",
       "        metadata,\n",
       "        CLASS_NAME,\n",
       "        EXEC_MIME_TYPE\n",
       "      );\n",
       "      this.keyboard_manager.register_events(toinsert);\n",
       "      // Render to node\n",
       "      const props = {data: data, metadata: metadata[EXEC_MIME_TYPE]};\n",
       "      render(props, toinsert[toinsert.length - 1]);\n",
       "      element.append(toinsert);\n",
       "      return toinsert\n",
       "    }\n",
       "\n",
       "    /* Handle when an output is cleared or removed */\n",
       "    events.on('clear_output.CodeCell', handleClearOutput);\n",
       "    events.on('delete.Cell', handleClearOutput);\n",
       "\n",
       "    /* Handle when a new output is added */\n",
       "    events.on('output_added.OutputArea', handleAddOutput);\n",
       "\n",
       "    /**\n",
       "     * Register the mime type and append_mime function with output_area\n",
       "     */\n",
       "    OutputArea.prototype.register_mime_type(EXEC_MIME_TYPE, append_mime, {\n",
       "      /* Is output safe? */\n",
       "      safe: true,\n",
       "      /* Index of renderer in `output_area.display_order` */\n",
       "      index: 0\n",
       "    });\n",
       "  }\n",
       "\n",
       "  // register the mime type if in Jupyter Notebook environment and previously unregistered\n",
       "  if (root.Jupyter !== undefined) {\n",
       "    const events = require('base/js/events');\n",
       "    const OutputArea = require('notebook/js/outputarea').OutputArea;\n",
       "\n",
       "    if (OutputArea.prototype.mime_types().indexOf(EXEC_MIME_TYPE) == -1) {\n",
       "      register_renderer(events, OutputArea);\n",
       "    }\n",
       "  }\n",
       "  if (typeof (root._bokeh_timeout) === \"undefined\" || force === true) {\n",
       "    root._bokeh_timeout = Date.now() + 5000;\n",
       "    root._bokeh_failed_load = false;\n",
       "  }\n",
       "\n",
       "  const NB_LOAD_WARNING = {'data': {'text/html':\n",
       "     \"<div style='background-color: #fdd'>\\n\"+\n",
       "     \"<p>\\n\"+\n",
       "     \"BokehJS does not appear to have successfully loaded. If loading BokehJS from CDN, this \\n\"+\n",
       "     \"may be due to a slow or bad network connection. Possible fixes:\\n\"+\n",
       "     \"</p>\\n\"+\n",
       "     \"<ul>\\n\"+\n",
       "     \"<li>re-rerun `output_notebook()` to attempt to load from CDN again, or</li>\\n\"+\n",
       "     \"<li>use INLINE resources instead, as so:</li>\\n\"+\n",
       "     \"</ul>\\n\"+\n",
       "     \"<code>\\n\"+\n",
       "     \"from bokeh.resources import INLINE\\n\"+\n",
       "     \"output_notebook(resources=INLINE)\\n\"+\n",
       "     \"</code>\\n\"+\n",
       "     \"</div>\"}};\n",
       "\n",
       "  function display_loaded(error = null) {\n",
       "    const el = document.getElementById(\"c2bc6348-25d4-4d4a-abf7-410e9cc87ae6\");\n",
       "    if (el != null) {\n",
       "      const html = (() => {\n",
       "        if (typeof root.Bokeh === \"undefined\") {\n",
       "          if (error == null) {\n",
       "            return \"BokehJS is loading ...\";\n",
       "          } else {\n",
       "            return \"BokehJS failed to load.\";\n",
       "          }\n",
       "        } else {\n",
       "          const prefix = `BokehJS ${root.Bokeh.version}`;\n",
       "          if (error == null) {\n",
       "            return `${prefix} successfully loaded.`;\n",
       "          } else {\n",
       "            return `${prefix} <b>encountered errors</b> while loading and may not function as expected.`;\n",
       "          }\n",
       "        }\n",
       "      })();\n",
       "      el.innerHTML = html;\n",
       "\n",
       "      if (error != null) {\n",
       "        const wrapper = document.createElement(\"div\");\n",
       "        wrapper.style.overflow = \"auto\";\n",
       "        wrapper.style.height = \"5em\";\n",
       "        wrapper.style.resize = \"vertical\";\n",
       "        const content = document.createElement(\"div\");\n",
       "        content.style.fontFamily = \"monospace\";\n",
       "        content.style.whiteSpace = \"pre-wrap\";\n",
       "        content.style.backgroundColor = \"rgb(255, 221, 221)\";\n",
       "        content.textContent = error.stack ?? error.toString();\n",
       "        wrapper.append(content);\n",
       "        el.append(wrapper);\n",
       "      }\n",
       "    } else if (Date.now() < root._bokeh_timeout) {\n",
       "      setTimeout(() => display_loaded(error), 100);\n",
       "    }\n",
       "  }\n",
       "\n",
       "  function run_callbacks() {\n",
       "    try {\n",
       "      root._bokeh_onload_callbacks.forEach(function(callback) {\n",
       "        if (callback != null)\n",
       "          callback();\n",
       "      });\n",
       "    } finally {\n",
       "      delete root._bokeh_onload_callbacks\n",
       "    }\n",
       "    console.debug(\"Bokeh: all callbacks have finished\");\n",
       "  }\n",
       "\n",
       "  function load_libs(css_urls, js_urls, callback) {\n",
       "    if (css_urls == null) css_urls = [];\n",
       "    if (js_urls == null) js_urls = [];\n",
       "\n",
       "    root._bokeh_onload_callbacks.push(callback);\n",
       "    if (root._bokeh_is_loading > 0) {\n",
       "      console.debug(\"Bokeh: BokehJS is being loaded, scheduling callback at\", now());\n",
       "      return null;\n",
       "    }\n",
       "    if (js_urls == null || js_urls.length === 0) {\n",
       "      run_callbacks();\n",
       "      return null;\n",
       "    }\n",
       "    console.debug(\"Bokeh: BokehJS not loaded, scheduling load and callback at\", now());\n",
       "    root._bokeh_is_loading = css_urls.length + js_urls.length;\n",
       "\n",
       "    function on_load() {\n",
       "      root._bokeh_is_loading--;\n",
       "      if (root._bokeh_is_loading === 0) {\n",
       "        console.debug(\"Bokeh: all BokehJS libraries/stylesheets loaded\");\n",
       "        run_callbacks()\n",
       "      }\n",
       "    }\n",
       "\n",
       "    function on_error(url) {\n",
       "      console.error(\"failed to load \" + url);\n",
       "    }\n",
       "\n",
       "    for (let i = 0; i < css_urls.length; i++) {\n",
       "      const url = css_urls[i];\n",
       "      const element = document.createElement(\"link\");\n",
       "      element.onload = on_load;\n",
       "      element.onerror = on_error.bind(null, url);\n",
       "      element.rel = \"stylesheet\";\n",
       "      element.type = \"text/css\";\n",
       "      element.href = url;\n",
       "      console.debug(\"Bokeh: injecting link tag for BokehJS stylesheet: \", url);\n",
       "      document.body.appendChild(element);\n",
       "    }\n",
       "\n",
       "    for (let i = 0; i < js_urls.length; i++) {\n",
       "      const url = js_urls[i];\n",
       "      const element = document.createElement('script');\n",
       "      element.onload = on_load;\n",
       "      element.onerror = on_error.bind(null, url);\n",
       "      element.async = false;\n",
       "      element.src = url;\n",
       "      console.debug(\"Bokeh: injecting script tag for BokehJS library: \", url);\n",
       "      document.head.appendChild(element);\n",
       "    }\n",
       "  };\n",
       "\n",
       "  function inject_raw_css(css) {\n",
       "    const element = document.createElement(\"style\");\n",
       "    element.appendChild(document.createTextNode(css));\n",
       "    document.body.appendChild(element);\n",
       "  }\n",
       "\n",
       "  const js_urls = [\"https://cdn.bokeh.org/bokeh/release/bokeh-3.7.3.min.js\", \"https://cdn.bokeh.org/bokeh/release/bokeh-gl-3.7.3.min.js\", \"https://cdn.bokeh.org/bokeh/release/bokeh-widgets-3.7.3.min.js\", \"https://cdn.bokeh.org/bokeh/release/bokeh-tables-3.7.3.min.js\", \"https://cdn.bokeh.org/bokeh/release/bokeh-mathjax-3.7.3.min.js\"];\n",
       "  const css_urls = [];\n",
       "\n",
       "  const inline_js = [    function(Bokeh) {\n",
       "      Bokeh.set_log_level(\"info\");\n",
       "    },\n",
       "function(Bokeh) {\n",
       "    }\n",
       "  ];\n",
       "\n",
       "  function run_inline_js() {\n",
       "    if (root.Bokeh !== undefined || force === true) {\n",
       "      try {\n",
       "            for (let i = 0; i < inline_js.length; i++) {\n",
       "      inline_js[i].call(root, root.Bokeh);\n",
       "    }\n",
       "\n",
       "      } catch (error) {display_loaded(error);throw error;\n",
       "      }if (force === true) {\n",
       "        display_loaded();\n",
       "      }} else if (Date.now() < root._bokeh_timeout) {\n",
       "      setTimeout(run_inline_js, 100);\n",
       "    } else if (!root._bokeh_failed_load) {\n",
       "      console.log(\"Bokeh: BokehJS failed to load within specified timeout.\");\n",
       "      root._bokeh_failed_load = true;\n",
       "    } else if (force !== true) {\n",
       "      const cell = $(document.getElementById(\"c2bc6348-25d4-4d4a-abf7-410e9cc87ae6\")).parents('.cell').data().cell;\n",
       "      cell.output_area.append_execute_result(NB_LOAD_WARNING)\n",
       "    }\n",
       "  }\n",
       "\n",
       "  if (root._bokeh_is_loading === 0) {\n",
       "    console.debug(\"Bokeh: BokehJS loaded, going straight to plotting\");\n",
       "    run_inline_js();\n",
       "  } else {\n",
       "    load_libs(css_urls, js_urls, function() {\n",
       "      console.debug(\"Bokeh: BokehJS plotting callback run at\", now());\n",
       "      run_inline_js();\n",
       "    });\n",
       "  }\n",
       "}(window));"
      ],
      "application/vnd.bokehjs_load.v0+json": "'use strict';\n(function(root) {\n  function now() {\n    return new Date();\n  }\n\n  const force = true;\n\n  if (typeof root._bokeh_onload_callbacks === \"undefined\" || force === true) {\n    root._bokeh_onload_callbacks = [];\n    root._bokeh_is_loading = undefined;\n  }\n\n\n  if (typeof (root._bokeh_timeout) === \"undefined\" || force === true) {\n    root._bokeh_timeout = Date.now() + 5000;\n    root._bokeh_failed_load = false;\n  }\n\n  const NB_LOAD_WARNING = {'data': {'text/html':\n     \"<div style='background-color: #fdd'>\\n\"+\n     \"<p>\\n\"+\n     \"BokehJS does not appear to have successfully loaded. If loading BokehJS from CDN, this \\n\"+\n     \"may be due to a slow or bad network connection. Possible fixes:\\n\"+\n     \"</p>\\n\"+\n     \"<ul>\\n\"+\n     \"<li>re-rerun `output_notebook()` to attempt to load from CDN again, or</li>\\n\"+\n     \"<li>use INLINE resources instead, as so:</li>\\n\"+\n     \"</ul>\\n\"+\n     \"<code>\\n\"+\n     \"from bokeh.resources import INLINE\\n\"+\n     \"output_notebook(resources=INLINE)\\n\"+\n     \"</code>\\n\"+\n     \"</div>\"}};\n\n  function display_loaded(error = null) {\n    const el = document.getElementById(\"c2bc6348-25d4-4d4a-abf7-410e9cc87ae6\");\n    if (el != null) {\n      const html = (() => {\n        if (typeof root.Bokeh === \"undefined\") {\n          if (error == null) {\n            return \"BokehJS is loading ...\";\n          } else {\n            return \"BokehJS failed to load.\";\n          }\n        } else {\n          const prefix = `BokehJS ${root.Bokeh.version}`;\n          if (error == null) {\n            return `${prefix} successfully loaded.`;\n          } else {\n            return `${prefix} <b>encountered errors</b> while loading and may not function as expected.`;\n          }\n        }\n      })();\n      el.innerHTML = html;\n\n      if (error != null) {\n        const wrapper = document.createElement(\"div\");\n        wrapper.style.overflow = \"auto\";\n        wrapper.style.height = \"5em\";\n        wrapper.style.resize = \"vertical\";\n        const content = document.createElement(\"div\");\n        content.style.fontFamily = \"monospace\";\n        content.style.whiteSpace = \"pre-wrap\";\n        content.style.backgroundColor = \"rgb(255, 221, 221)\";\n        content.textContent = error.stack ?? error.toString();\n        wrapper.append(content);\n        el.append(wrapper);\n      }\n    } else if (Date.now() < root._bokeh_timeout) {\n      setTimeout(() => display_loaded(error), 100);\n    }\n  }\n\n  function run_callbacks() {\n    try {\n      root._bokeh_onload_callbacks.forEach(function(callback) {\n        if (callback != null)\n          callback();\n      });\n    } finally {\n      delete root._bokeh_onload_callbacks\n    }\n    console.debug(\"Bokeh: all callbacks have finished\");\n  }\n\n  function load_libs(css_urls, js_urls, callback) {\n    if (css_urls == null) css_urls = [];\n    if (js_urls == null) js_urls = [];\n\n    root._bokeh_onload_callbacks.push(callback);\n    if (root._bokeh_is_loading > 0) {\n      console.debug(\"Bokeh: BokehJS is being loaded, scheduling callback at\", now());\n      return null;\n    }\n    if (js_urls == null || js_urls.length === 0) {\n      run_callbacks();\n      return null;\n    }\n    console.debug(\"Bokeh: BokehJS not loaded, scheduling load and callback at\", now());\n    root._bokeh_is_loading = css_urls.length + js_urls.length;\n\n    function on_load() {\n      root._bokeh_is_loading--;\n      if (root._bokeh_is_loading === 0) {\n        console.debug(\"Bokeh: all BokehJS libraries/stylesheets loaded\");\n        run_callbacks()\n      }\n    }\n\n    function on_error(url) {\n      console.error(\"failed to load \" + url);\n    }\n\n    for (let i = 0; i < css_urls.length; i++) {\n      const url = css_urls[i];\n      const element = document.createElement(\"link\");\n      element.onload = on_load;\n      element.onerror = on_error.bind(null, url);\n      element.rel = \"stylesheet\";\n      element.type = \"text/css\";\n      element.href = url;\n      console.debug(\"Bokeh: injecting link tag for BokehJS stylesheet: \", url);\n      document.body.appendChild(element);\n    }\n\n    for (let i = 0; i < js_urls.length; i++) {\n      const url = js_urls[i];\n      const element = document.createElement('script');\n      element.onload = on_load;\n      element.onerror = on_error.bind(null, url);\n      element.async = false;\n      element.src = url;\n      console.debug(\"Bokeh: injecting script tag for BokehJS library: \", url);\n      document.head.appendChild(element);\n    }\n  };\n\n  function inject_raw_css(css) {\n    const element = document.createElement(\"style\");\n    element.appendChild(document.createTextNode(css));\n    document.body.appendChild(element);\n  }\n\n  const js_urls = [\"https://cdn.bokeh.org/bokeh/release/bokeh-3.7.3.min.js\", \"https://cdn.bokeh.org/bokeh/release/bokeh-gl-3.7.3.min.js\", \"https://cdn.bokeh.org/bokeh/release/bokeh-widgets-3.7.3.min.js\", \"https://cdn.bokeh.org/bokeh/release/bokeh-tables-3.7.3.min.js\", \"https://cdn.bokeh.org/bokeh/release/bokeh-mathjax-3.7.3.min.js\"];\n  const css_urls = [];\n\n  const inline_js = [    function(Bokeh) {\n      Bokeh.set_log_level(\"info\");\n    },\nfunction(Bokeh) {\n    }\n  ];\n\n  function run_inline_js() {\n    if (root.Bokeh !== undefined || force === true) {\n      try {\n            for (let i = 0; i < inline_js.length; i++) {\n      inline_js[i].call(root, root.Bokeh);\n    }\n\n      } catch (error) {display_loaded(error);throw error;\n      }if (force === true) {\n        display_loaded();\n      }} else if (Date.now() < root._bokeh_timeout) {\n      setTimeout(run_inline_js, 100);\n    } else if (!root._bokeh_failed_load) {\n      console.log(\"Bokeh: BokehJS failed to load within specified timeout.\");\n      root._bokeh_failed_load = true;\n    } else if (force !== true) {\n      const cell = $(document.getElementById(\"c2bc6348-25d4-4d4a-abf7-410e9cc87ae6\")).parents('.cell').data().cell;\n      cell.output_area.append_execute_result(NB_LOAD_WARNING)\n    }\n  }\n\n  if (root._bokeh_is_loading === 0) {\n    console.debug(\"Bokeh: BokehJS loaded, going straight to plotting\");\n    run_inline_js();\n  } else {\n    load_libs(css_urls, js_urls, function() {\n      console.debug(\"Bokeh: BokehJS plotting callback run at\", now());\n      run_inline_js();\n    });\n  }\n}(window));"
     },
     "metadata": {},
     "output_type": "display_data"
    }
   ],
   "source": [
    "output_notebook()  # Permite visualizar dentro de Jupyter Notebook"
   ]
  },
  {
   "cell_type": "code",
   "execution_count": 86,
   "id": "ebd5b792-fa8f-460f-bfa8-da8056dbaa73",
   "metadata": {},
   "outputs": [],
   "source": [
    "# Filtrar columnas numéricas\n",
    "df_num = df_combinada.select_dtypes(include='number')"
   ]
  },
  {
   "cell_type": "code",
   "execution_count": 87,
   "id": "3deda51a-cf66-46cc-8847-ce4297b28a8f",
   "metadata": {},
   "outputs": [],
   "source": [
    "# Calcular el percentil 25 para esa columna\n",
    "umbral = df_num.quantile(0.25)"
   ]
  },
  {
   "cell_type": "code",
   "execution_count": 88,
   "id": "3faf5347-525b-494f-98a9-e37f0d205a9c",
   "metadata": {},
   "outputs": [],
   "source": [
    "# Contar cuántos valores superan ese umbral en cada columna\n",
    "valores_altos = (df_num > umbral).sum()"
   ]
  },
  {
   "cell_type": "code",
   "execution_count": 89,
   "id": "ac0db662-5862-4420-8f10-01a866b871a5",
   "metadata": {},
   "outputs": [],
   "source": [
    "# Preparar datos\n",
    "columnas = valores_altos.index.tolist()\n",
    "cantidades = valores_altos.values\n",
    "\n",
    "source = ColumnDataSource(data=dict(columnas=columnas, cantidades=cantidades))"
   ]
  },
  {
   "cell_type": "code",
   "execution_count": 90,
   "id": "634de714-6e51-4f5f-8c8d-884eb82479d6",
   "metadata": {},
   "outputs": [
    {
     "data": {
      "text/html": [
       "<div style=\"display: table;\"><div style=\"display: table-row;\"><div style=\"display: table-cell;\"><b title=\"bokeh.models.renderers.glyph_renderer.GlyphRenderer\">GlyphRenderer</b>(</div><div style=\"display: table-cell;\">id&nbsp;=&nbsp;'p1151', <span id=\"p1155\" style=\"cursor: pointer;\">&hellip;)</span></div></div><div class=\"p1154\" style=\"display: none;\"><div style=\"display: table-cell;\"></div><div style=\"display: table-cell;\">context_menu&nbsp;=&nbsp;None,</div></div><div class=\"p1154\" style=\"display: none;\"><div style=\"display: table-cell;\"></div><div style=\"display: table-cell;\">coordinates&nbsp;=&nbsp;None,</div></div><div class=\"p1154\" style=\"display: none;\"><div style=\"display: table-cell;\"></div><div style=\"display: table-cell;\">css_classes&nbsp;=&nbsp;[],</div></div><div class=\"p1154\" style=\"display: none;\"><div style=\"display: table-cell;\"></div><div style=\"display: table-cell;\">css_variables&nbsp;=&nbsp;{},</div></div><div class=\"p1154\" style=\"display: none;\"><div style=\"display: table-cell;\"></div><div style=\"display: table-cell;\">data_source&nbsp;=&nbsp;ColumnDataSource(id='p1119', ...),</div></div><div class=\"p1154\" style=\"display: none;\"><div style=\"display: table-cell;\"></div><div style=\"display: table-cell;\">glyph&nbsp;=&nbsp;VBar(id='p1148', ...),</div></div><div class=\"p1154\" style=\"display: none;\"><div style=\"display: table-cell;\"></div><div style=\"display: table-cell;\">group&nbsp;=&nbsp;None,</div></div><div class=\"p1154\" style=\"display: none;\"><div style=\"display: table-cell;\"></div><div style=\"display: table-cell;\">hover_glyph&nbsp;=&nbsp;None,</div></div><div class=\"p1154\" style=\"display: none;\"><div style=\"display: table-cell;\"></div><div style=\"display: table-cell;\">html_attributes&nbsp;=&nbsp;{},</div></div><div class=\"p1154\" style=\"display: none;\"><div style=\"display: table-cell;\"></div><div style=\"display: table-cell;\">html_id&nbsp;=&nbsp;None,</div></div><div class=\"p1154\" style=\"display: none;\"><div style=\"display: table-cell;\"></div><div style=\"display: table-cell;\">js_event_callbacks&nbsp;=&nbsp;{},</div></div><div class=\"p1154\" style=\"display: none;\"><div style=\"display: table-cell;\"></div><div style=\"display: table-cell;\">js_property_callbacks&nbsp;=&nbsp;{},</div></div><div class=\"p1154\" style=\"display: none;\"><div style=\"display: table-cell;\"></div><div style=\"display: table-cell;\">level&nbsp;=&nbsp;'glyph',</div></div><div class=\"p1154\" style=\"display: none;\"><div style=\"display: table-cell;\"></div><div style=\"display: table-cell;\">muted&nbsp;=&nbsp;False,</div></div><div class=\"p1154\" style=\"display: none;\"><div style=\"display: table-cell;\"></div><div style=\"display: table-cell;\">muted_glyph&nbsp;=&nbsp;VBar(id='p1150', ...),</div></div><div class=\"p1154\" style=\"display: none;\"><div style=\"display: table-cell;\"></div><div style=\"display: table-cell;\">name&nbsp;=&nbsp;None,</div></div><div class=\"p1154\" style=\"display: none;\"><div style=\"display: table-cell;\"></div><div style=\"display: table-cell;\">nonselection_glyph&nbsp;=&nbsp;VBar(id='p1149', ...),</div></div><div class=\"p1154\" style=\"display: none;\"><div style=\"display: table-cell;\"></div><div style=\"display: table-cell;\">propagate_hover&nbsp;=&nbsp;False,</div></div><div class=\"p1154\" style=\"display: none;\"><div style=\"display: table-cell;\"></div><div style=\"display: table-cell;\">selection_glyph&nbsp;=&nbsp;'auto',</div></div><div class=\"p1154\" style=\"display: none;\"><div style=\"display: table-cell;\"></div><div style=\"display: table-cell;\">styles&nbsp;=&nbsp;{},</div></div><div class=\"p1154\" style=\"display: none;\"><div style=\"display: table-cell;\"></div><div style=\"display: table-cell;\">stylesheets&nbsp;=&nbsp;[],</div></div><div class=\"p1154\" style=\"display: none;\"><div style=\"display: table-cell;\"></div><div style=\"display: table-cell;\">subscribed_events&nbsp;=&nbsp;PropertyValueSet(),</div></div><div class=\"p1154\" style=\"display: none;\"><div style=\"display: table-cell;\"></div><div style=\"display: table-cell;\">syncable&nbsp;=&nbsp;True,</div></div><div class=\"p1154\" style=\"display: none;\"><div style=\"display: table-cell;\"></div><div style=\"display: table-cell;\">tags&nbsp;=&nbsp;[],</div></div><div class=\"p1154\" style=\"display: none;\"><div style=\"display: table-cell;\"></div><div style=\"display: table-cell;\">view&nbsp;=&nbsp;CDSView(id='p1152', ...),</div></div><div class=\"p1154\" style=\"display: none;\"><div style=\"display: table-cell;\"></div><div style=\"display: table-cell;\">visible&nbsp;=&nbsp;True,</div></div><div class=\"p1154\" style=\"display: none;\"><div style=\"display: table-cell;\"></div><div style=\"display: table-cell;\">x_range_name&nbsp;=&nbsp;'default',</div></div><div class=\"p1154\" style=\"display: none;\"><div style=\"display: table-cell;\"></div><div style=\"display: table-cell;\">y_range_name&nbsp;=&nbsp;'default')</div></div></div>\n",
       "<script>\n",
       "(function() {\n",
       "  let expanded = false;\n",
       "  const ellipsis = document.getElementById(\"p1155\");\n",
       "  ellipsis.addEventListener(\"click\", function() {\n",
       "    const rows = document.getElementsByClassName(\"p1154\");\n",
       "    for (let i = 0; i < rows.length; i++) {\n",
       "      const el = rows[i];\n",
       "      el.style.display = expanded ? \"none\" : \"table-row\";\n",
       "    }\n",
       "    ellipsis.innerHTML = expanded ? \"&hellip;)\" : \"&lsaquo;&lsaquo;&lsaquo;\";\n",
       "    expanded = !expanded;\n",
       "  });\n",
       "})();\n",
       "</script>\n"
      ],
      "text/plain": [
       "GlyphRenderer(id='p1151', ...)"
      ]
     },
     "execution_count": 90,
     "metadata": {},
     "output_type": "execute_result"
    }
   ],
   "source": [
    "# Crear gráfico\n",
    "p = figure(x_range=columnas, height=400, title=\"Personas con valor alto (>25%)\", toolbar_location=None, tools=\"\")\n",
    "\n",
    "p.vbar(x='columnas', top='cantidades', width=0.9, source=source, color=\"mediumseagreen\")"
   ]
  },
  {
   "cell_type": "code",
   "execution_count": 91,
   "id": "96df7c01-f81b-4814-afbf-0641517666e7",
   "metadata": {},
   "outputs": [
    {
     "data": {
      "text/html": [
       "<div style=\"display: table;\"><div style=\"display: table-row;\"><div style=\"display: table-cell;\"><b title=\"bokeh.models.renderers.glyph_renderer.GlyphRenderer\">GlyphRenderer</b>(</div><div style=\"display: table-cell;\">id&nbsp;=&nbsp;'p1162', <span id=\"p1166\" style=\"cursor: pointer;\">&hellip;)</span></div></div><div class=\"p1165\" style=\"display: none;\"><div style=\"display: table-cell;\"></div><div style=\"display: table-cell;\">context_menu&nbsp;=&nbsp;None,</div></div><div class=\"p1165\" style=\"display: none;\"><div style=\"display: table-cell;\"></div><div style=\"display: table-cell;\">coordinates&nbsp;=&nbsp;None,</div></div><div class=\"p1165\" style=\"display: none;\"><div style=\"display: table-cell;\"></div><div style=\"display: table-cell;\">css_classes&nbsp;=&nbsp;[],</div></div><div class=\"p1165\" style=\"display: none;\"><div style=\"display: table-cell;\"></div><div style=\"display: table-cell;\">css_variables&nbsp;=&nbsp;{},</div></div><div class=\"p1165\" style=\"display: none;\"><div style=\"display: table-cell;\"></div><div style=\"display: table-cell;\">data_source&nbsp;=&nbsp;ColumnDataSource(id='p1119', ...),</div></div><div class=\"p1165\" style=\"display: none;\"><div style=\"display: table-cell;\"></div><div style=\"display: table-cell;\">glyph&nbsp;=&nbsp;VBar(id='p1159', ...),</div></div><div class=\"p1165\" style=\"display: none;\"><div style=\"display: table-cell;\"></div><div style=\"display: table-cell;\">group&nbsp;=&nbsp;None,</div></div><div class=\"p1165\" style=\"display: none;\"><div style=\"display: table-cell;\"></div><div style=\"display: table-cell;\">hover_glyph&nbsp;=&nbsp;None,</div></div><div class=\"p1165\" style=\"display: none;\"><div style=\"display: table-cell;\"></div><div style=\"display: table-cell;\">html_attributes&nbsp;=&nbsp;{},</div></div><div class=\"p1165\" style=\"display: none;\"><div style=\"display: table-cell;\"></div><div style=\"display: table-cell;\">html_id&nbsp;=&nbsp;None,</div></div><div class=\"p1165\" style=\"display: none;\"><div style=\"display: table-cell;\"></div><div style=\"display: table-cell;\">js_event_callbacks&nbsp;=&nbsp;{},</div></div><div class=\"p1165\" style=\"display: none;\"><div style=\"display: table-cell;\"></div><div style=\"display: table-cell;\">js_property_callbacks&nbsp;=&nbsp;{},</div></div><div class=\"p1165\" style=\"display: none;\"><div style=\"display: table-cell;\"></div><div style=\"display: table-cell;\">level&nbsp;=&nbsp;'glyph',</div></div><div class=\"p1165\" style=\"display: none;\"><div style=\"display: table-cell;\"></div><div style=\"display: table-cell;\">muted&nbsp;=&nbsp;False,</div></div><div class=\"p1165\" style=\"display: none;\"><div style=\"display: table-cell;\"></div><div style=\"display: table-cell;\">muted_glyph&nbsp;=&nbsp;VBar(id='p1161', ...),</div></div><div class=\"p1165\" style=\"display: none;\"><div style=\"display: table-cell;\"></div><div style=\"display: table-cell;\">name&nbsp;=&nbsp;None,</div></div><div class=\"p1165\" style=\"display: none;\"><div style=\"display: table-cell;\"></div><div style=\"display: table-cell;\">nonselection_glyph&nbsp;=&nbsp;VBar(id='p1160', ...),</div></div><div class=\"p1165\" style=\"display: none;\"><div style=\"display: table-cell;\"></div><div style=\"display: table-cell;\">propagate_hover&nbsp;=&nbsp;False,</div></div><div class=\"p1165\" style=\"display: none;\"><div style=\"display: table-cell;\"></div><div style=\"display: table-cell;\">selection_glyph&nbsp;=&nbsp;'auto',</div></div><div class=\"p1165\" style=\"display: none;\"><div style=\"display: table-cell;\"></div><div style=\"display: table-cell;\">styles&nbsp;=&nbsp;{},</div></div><div class=\"p1165\" style=\"display: none;\"><div style=\"display: table-cell;\"></div><div style=\"display: table-cell;\">stylesheets&nbsp;=&nbsp;[],</div></div><div class=\"p1165\" style=\"display: none;\"><div style=\"display: table-cell;\"></div><div style=\"display: table-cell;\">subscribed_events&nbsp;=&nbsp;PropertyValueSet(),</div></div><div class=\"p1165\" style=\"display: none;\"><div style=\"display: table-cell;\"></div><div style=\"display: table-cell;\">syncable&nbsp;=&nbsp;True,</div></div><div class=\"p1165\" style=\"display: none;\"><div style=\"display: table-cell;\"></div><div style=\"display: table-cell;\">tags&nbsp;=&nbsp;[],</div></div><div class=\"p1165\" style=\"display: none;\"><div style=\"display: table-cell;\"></div><div style=\"display: table-cell;\">view&nbsp;=&nbsp;CDSView(id='p1163', ...),</div></div><div class=\"p1165\" style=\"display: none;\"><div style=\"display: table-cell;\"></div><div style=\"display: table-cell;\">visible&nbsp;=&nbsp;True,</div></div><div class=\"p1165\" style=\"display: none;\"><div style=\"display: table-cell;\"></div><div style=\"display: table-cell;\">x_range_name&nbsp;=&nbsp;'default',</div></div><div class=\"p1165\" style=\"display: none;\"><div style=\"display: table-cell;\"></div><div style=\"display: table-cell;\">y_range_name&nbsp;=&nbsp;'default')</div></div></div>\n",
       "<script>\n",
       "(function() {\n",
       "  let expanded = false;\n",
       "  const ellipsis = document.getElementById(\"p1166\");\n",
       "  ellipsis.addEventListener(\"click\", function() {\n",
       "    const rows = document.getElementsByClassName(\"p1165\");\n",
       "    for (let i = 0; i < rows.length; i++) {\n",
       "      const el = rows[i];\n",
       "      el.style.display = expanded ? \"none\" : \"table-row\";\n",
       "    }\n",
       "    ellipsis.innerHTML = expanded ? \"&hellip;)\" : \"&lsaquo;&lsaquo;&lsaquo;\";\n",
       "    expanded = !expanded;\n",
       "  });\n",
       "})();\n",
       "</script>\n"
      ],
      "text/plain": [
       "GlyphRenderer(id='p1162', ...)"
      ]
     },
     "execution_count": 91,
     "metadata": {},
     "output_type": "execute_result"
    }
   ],
   "source": [
    "# Barras verticales\n",
    "p.vbar(x='columnas', top='cantidades', width=0.6, source=source, color=\"orange\")"
   ]
  },
  {
   "cell_type": "code",
   "execution_count": 93,
   "id": "54fb3f16-9043-4d36-a885-cc572fa73aa6",
   "metadata": {},
   "outputs": [
    {
     "data": {
      "text/html": [
       "\n",
       "  <div id=\"ed2ae623-fc8b-4121-bc1f-e23d3d93d870\" data-root-id=\"p1122\" style=\"display: contents;\"></div>\n"
      ]
     },
     "metadata": {},
     "output_type": "display_data"
    },
    {
     "data": {
      "application/javascript": [
       "(function(root) {\n",
       "  function embed_document(root) {\n",
       "  const docs_json = {\"84f93767-ebd1-4a89-bae2-a8958c99ca5e\":{\"version\":\"3.7.3\",\"title\":\"Bokeh Application\",\"roots\":[{\"type\":\"object\",\"name\":\"Figure\",\"id\":\"p1122\",\"attributes\":{\"height\":400,\"x_range\":{\"type\":\"object\",\"name\":\"FactorRange\",\"id\":\"p1132\",\"attributes\":{\"factors\":[\"BloodPressure\",\"DiabetesPedigreeFunction\",\"Glucose\",\"Outcome\",\"Insulin\",\"Pregnancies\",\"SkinThickness\",\"NoDocbcCost\",\"CholCheck\",\"PhysHlth\",\"Education\",\"Sex\",\"HeartDiseaseorAttack\",\"PhysActivity\",\"Veggies\",\"AnyHealthcare\",\"GenHlth\",\"Diabetes_012\",\"Fruits\",\"Income\",\"Smoker\",\"HighBP\",\"MentHlth\",\"HvyAlcoholConsump\",\"DiffWalk\",\"Stroke\",\"HighChol\"]}},\"y_range\":{\"type\":\"object\",\"name\":\"DataRange1d\",\"id\":\"p1124\",\"attributes\":{\"start\":0}},\"x_scale\":{\"type\":\"object\",\"name\":\"CategoricalScale\",\"id\":\"p1133\"},\"y_scale\":{\"type\":\"object\",\"name\":\"LinearScale\",\"id\":\"p1134\"},\"title\":{\"type\":\"object\",\"name\":\"Title\",\"id\":\"p1125\",\"attributes\":{\"text\":\"Personas con valor alto (>25%)\"}},\"renderers\":[{\"type\":\"object\",\"name\":\"GlyphRenderer\",\"id\":\"p1151\",\"attributes\":{\"data_source\":{\"type\":\"object\",\"name\":\"ColumnDataSource\",\"id\":\"p1119\",\"attributes\":{\"selected\":{\"type\":\"object\",\"name\":\"Selection\",\"id\":\"p1120\",\"attributes\":{\"indices\":[],\"line_indices\":[]}},\"selection_policy\":{\"type\":\"object\",\"name\":\"UnionRenderers\",\"id\":\"p1121\"},\"data\":{\"type\":\"map\",\"entries\":[[\"columnas\",[\"BloodPressure\",\"DiabetesPedigreeFunction\",\"Glucose\",\"Outcome\",\"Insulin\",\"Pregnancies\",\"SkinThickness\",\"NoDocbcCost\",\"CholCheck\",\"PhysHlth\",\"Education\",\"Sex\",\"HeartDiseaseorAttack\",\"PhysActivity\",\"Veggies\",\"AnyHealthcare\",\"GenHlth\",\"Diabetes_012\",\"Fruits\",\"Income\",\"Smoker\",\"HighBP\",\"MentHlth\",\"HvyAlcoholConsump\",\"DiffWalk\",\"Stroke\",\"HighChol\"]],[\"cantidades\",{\"type\":\"ndarray\",\"array\":{\"type\":\"bytes\",\"data\":\"PwIAAEACAAA7AgAADAEAAIoBAAAKAgAAHQIAAFMAAAAAAAAAUwEAAMIBAAAPAQAAYAAAAN0BAAAAAAAAAAAAANcBAADHAAAAvgEAADkCAABnAQAAywEAAAkBAAAaAAAA6gAAADYAAACWAQAA\"},\"shape\":[27],\"dtype\":\"int32\",\"order\":\"little\"}]]}}},\"view\":{\"type\":\"object\",\"name\":\"CDSView\",\"id\":\"p1152\",\"attributes\":{\"filter\":{\"type\":\"object\",\"name\":\"AllIndices\",\"id\":\"p1153\"}}},\"glyph\":{\"type\":\"object\",\"name\":\"VBar\",\"id\":\"p1148\",\"attributes\":{\"x\":{\"type\":\"field\",\"field\":\"columnas\"},\"width\":{\"type\":\"value\",\"value\":0.9},\"top\":{\"type\":\"field\",\"field\":\"cantidades\"},\"line_color\":{\"type\":\"value\",\"value\":\"mediumseagreen\"},\"fill_color\":{\"type\":\"value\",\"value\":\"mediumseagreen\"},\"hatch_color\":{\"type\":\"value\",\"value\":\"mediumseagreen\"}}},\"nonselection_glyph\":{\"type\":\"object\",\"name\":\"VBar\",\"id\":\"p1149\",\"attributes\":{\"x\":{\"type\":\"field\",\"field\":\"columnas\"},\"width\":{\"type\":\"value\",\"value\":0.9},\"top\":{\"type\":\"field\",\"field\":\"cantidades\"},\"line_color\":{\"type\":\"value\",\"value\":\"mediumseagreen\"},\"line_alpha\":{\"type\":\"value\",\"value\":0.1},\"fill_color\":{\"type\":\"value\",\"value\":\"mediumseagreen\"},\"fill_alpha\":{\"type\":\"value\",\"value\":0.1},\"hatch_color\":{\"type\":\"value\",\"value\":\"mediumseagreen\"},\"hatch_alpha\":{\"type\":\"value\",\"value\":0.1}}},\"muted_glyph\":{\"type\":\"object\",\"name\":\"VBar\",\"id\":\"p1150\",\"attributes\":{\"x\":{\"type\":\"field\",\"field\":\"columnas\"},\"width\":{\"type\":\"value\",\"value\":0.9},\"top\":{\"type\":\"field\",\"field\":\"cantidades\"},\"line_color\":{\"type\":\"value\",\"value\":\"mediumseagreen\"},\"line_alpha\":{\"type\":\"value\",\"value\":0.2},\"fill_color\":{\"type\":\"value\",\"value\":\"mediumseagreen\"},\"fill_alpha\":{\"type\":\"value\",\"value\":0.2},\"hatch_color\":{\"type\":\"value\",\"value\":\"mediumseagreen\"},\"hatch_alpha\":{\"type\":\"value\",\"value\":0.2}}}}},{\"type\":\"object\",\"name\":\"GlyphRenderer\",\"id\":\"p1162\",\"attributes\":{\"data_source\":{\"id\":\"p1119\"},\"view\":{\"type\":\"object\",\"name\":\"CDSView\",\"id\":\"p1163\",\"attributes\":{\"filter\":{\"type\":\"object\",\"name\":\"AllIndices\",\"id\":\"p1164\"}}},\"glyph\":{\"type\":\"object\",\"name\":\"VBar\",\"id\":\"p1159\",\"attributes\":{\"x\":{\"type\":\"field\",\"field\":\"columnas\"},\"width\":{\"type\":\"value\",\"value\":0.6},\"top\":{\"type\":\"field\",\"field\":\"cantidades\"},\"line_color\":{\"type\":\"value\",\"value\":\"orange\"},\"fill_color\":{\"type\":\"value\",\"value\":\"orange\"},\"hatch_color\":{\"type\":\"value\",\"value\":\"orange\"}}},\"nonselection_glyph\":{\"type\":\"object\",\"name\":\"VBar\",\"id\":\"p1160\",\"attributes\":{\"x\":{\"type\":\"field\",\"field\":\"columnas\"},\"width\":{\"type\":\"value\",\"value\":0.6},\"top\":{\"type\":\"field\",\"field\":\"cantidades\"},\"line_color\":{\"type\":\"value\",\"value\":\"orange\"},\"line_alpha\":{\"type\":\"value\",\"value\":0.1},\"fill_color\":{\"type\":\"value\",\"value\":\"orange\"},\"fill_alpha\":{\"type\":\"value\",\"value\":0.1},\"hatch_color\":{\"type\":\"value\",\"value\":\"orange\"},\"hatch_alpha\":{\"type\":\"value\",\"value\":0.1}}},\"muted_glyph\":{\"type\":\"object\",\"name\":\"VBar\",\"id\":\"p1161\",\"attributes\":{\"x\":{\"type\":\"field\",\"field\":\"columnas\"},\"width\":{\"type\":\"value\",\"value\":0.6},\"top\":{\"type\":\"field\",\"field\":\"cantidades\"},\"line_color\":{\"type\":\"value\",\"value\":\"orange\"},\"line_alpha\":{\"type\":\"value\",\"value\":0.2},\"fill_color\":{\"type\":\"value\",\"value\":\"orange\"},\"fill_alpha\":{\"type\":\"value\",\"value\":0.2},\"hatch_color\":{\"type\":\"value\",\"value\":\"orange\"},\"hatch_alpha\":{\"type\":\"value\",\"value\":0.2}}}}}],\"toolbar\":{\"type\":\"object\",\"name\":\"Toolbar\",\"id\":\"p1131\"},\"toolbar_location\":null,\"left\":[{\"type\":\"object\",\"name\":\"LinearAxis\",\"id\":\"p1140\",\"attributes\":{\"ticker\":{\"type\":\"object\",\"name\":\"BasicTicker\",\"id\":\"p1141\",\"attributes\":{\"mantissas\":[1,2,5]}},\"formatter\":{\"type\":\"object\",\"name\":\"BasicTickFormatter\",\"id\":\"p1142\"},\"axis_label\":\"Cantidad de personas\",\"major_label_policy\":{\"type\":\"object\",\"name\":\"AllLabels\",\"id\":\"p1143\"}}}],\"below\":[{\"type\":\"object\",\"name\":\"CategoricalAxis\",\"id\":\"p1135\",\"attributes\":{\"ticker\":{\"type\":\"object\",\"name\":\"CategoricalTicker\",\"id\":\"p1136\"},\"formatter\":{\"type\":\"object\",\"name\":\"CategoricalTickFormatter\",\"id\":\"p1137\"},\"axis_label\":\"Detalles Clinicos\",\"major_label_orientation\":1.2,\"major_label_policy\":{\"type\":\"object\",\"name\":\"AllLabels\",\"id\":\"p1138\"}}}],\"center\":[{\"type\":\"object\",\"name\":\"Grid\",\"id\":\"p1139\",\"attributes\":{\"axis\":{\"id\":\"p1135\"},\"grid_line_color\":null}},{\"type\":\"object\",\"name\":\"Grid\",\"id\":\"p1144\",\"attributes\":{\"dimension\":1,\"axis\":{\"id\":\"p1140\"}}}]}}]}};\n",
       "  const render_items = [{\"docid\":\"84f93767-ebd1-4a89-bae2-a8958c99ca5e\",\"roots\":{\"p1122\":\"ed2ae623-fc8b-4121-bc1f-e23d3d93d870\"},\"root_ids\":[\"p1122\"]}];\n",
       "  void root.Bokeh.embed.embed_items_notebook(docs_json, render_items);\n",
       "  }\n",
       "  if (root.Bokeh !== undefined) {\n",
       "    embed_document(root);\n",
       "  } else {\n",
       "    let attempts = 0;\n",
       "    const timer = setInterval(function(root) {\n",
       "      if (root.Bokeh !== undefined) {\n",
       "        clearInterval(timer);\n",
       "        embed_document(root);\n",
       "      } else {\n",
       "        attempts++;\n",
       "        if (attempts > 100) {\n",
       "          clearInterval(timer);\n",
       "          console.log(\"Bokeh: ERROR: Unable to run BokehJS code because BokehJS library is missing\");\n",
       "        }\n",
       "      }\n",
       "    }, 10, root)\n",
       "  }\n",
       "})(window);"
      ],
      "application/vnd.bokehjs_exec.v0+json": ""
     },
     "metadata": {
      "application/vnd.bokehjs_exec.v0+json": {
       "id": "p1122"
      }
     },
     "output_type": "display_data"
    }
   ],
   "source": [
    "from bokeh.plotting import output_file, save\n",
    "\n",
    "# Personalizar ejes\n",
    "p.xaxis.major_label_orientation = 1.2\n",
    "p.xaxis.axis_label = \"Detalles Clinicos\"\n",
    "p.yaxis.axis_label = \"Cantidad de personas\"\n",
    "p.y_range.start = 0\n",
    "p.xgrid.grid_line_color = None\n",
    "output_file(\"..//image//Bokeh.html\")\n",
    "save(p)\n",
    "show(p)"
   ]
  },
  {
   "cell_type": "code",
   "execution_count": 56,
   "id": "66368fe8-7c06-4adb-ba67-167b8aea2e0e",
   "metadata": {},
   "outputs": [
    {
     "name": "stdout",
     "output_type": "stream",
     "text": [
      "Requirement already satisfied: pygwalker in c:\\users\\santi\\onedrive\\escritorio\\maestria\\entornos\\clases\\lib\\site-packages (0.4.9.15)\n",
      "Requirement already satisfied: anywidget in c:\\users\\santi\\onedrive\\escritorio\\maestria\\entornos\\clases\\lib\\site-packages (from pygwalker) (0.9.18)\n",
      "Requirement already satisfied: appdirs in c:\\users\\santi\\onedrive\\escritorio\\maestria\\entornos\\clases\\lib\\site-packages (from pygwalker) (1.4.4)\n",
      "Requirement already satisfied: arrow in c:\\users\\santi\\onedrive\\escritorio\\maestria\\entornos\\clases\\lib\\site-packages (from pygwalker) (1.3.0)\n",
      "Requirement already satisfied: astor in c:\\users\\santi\\onedrive\\escritorio\\maestria\\entornos\\clases\\lib\\site-packages (from pygwalker) (0.8.1)\n",
      "Requirement already satisfied: cachetools in c:\\users\\santi\\onedrive\\escritorio\\maestria\\entornos\\clases\\lib\\site-packages (from pygwalker) (5.5.2)\n",
      "Requirement already satisfied: duckdb<2.0.0,>=0.10.1 in c:\\users\\santi\\onedrive\\escritorio\\maestria\\entornos\\clases\\lib\\site-packages (from pygwalker) (1.2.2)\n",
      "Requirement already satisfied: gw-dsl-parser==0.1.49.1 in c:\\users\\santi\\onedrive\\escritorio\\maestria\\entornos\\clases\\lib\\site-packages (from pygwalker) (0.1.49.1)\n",
      "Requirement already satisfied: ipylab<=1.0.0 in c:\\users\\santi\\onedrive\\escritorio\\maestria\\entornos\\clases\\lib\\site-packages (from pygwalker) (1.0.0)\n",
      "Requirement already satisfied: ipython in c:\\users\\santi\\onedrive\\escritorio\\maestria\\entornos\\clases\\lib\\site-packages (from pygwalker) (9.2.0)\n",
      "Requirement already satisfied: ipywidgets in c:\\users\\santi\\onedrive\\escritorio\\maestria\\entornos\\clases\\lib\\site-packages (from pygwalker) (8.1.6)\n",
      "Requirement already satisfied: jinja2 in c:\\users\\santi\\onedrive\\escritorio\\maestria\\entornos\\clases\\lib\\site-packages (from pygwalker) (3.1.6)\n",
      "Requirement already satisfied: kanaries-track==0.0.5 in c:\\users\\santi\\onedrive\\escritorio\\maestria\\entornos\\clases\\lib\\site-packages (from pygwalker) (0.0.5)\n",
      "Requirement already satisfied: numpy in c:\\users\\santi\\onedrive\\escritorio\\maestria\\entornos\\clases\\lib\\site-packages (from pygwalker) (2.2.5)\n",
      "Requirement already satisfied: packaging in c:\\users\\santi\\onedrive\\escritorio\\maestria\\entornos\\clases\\lib\\site-packages (from pygwalker) (24.2)\n",
      "Requirement already satisfied: pandas in c:\\users\\santi\\onedrive\\escritorio\\maestria\\entornos\\clases\\lib\\site-packages (from pygwalker) (2.2.3)\n",
      "Requirement already satisfied: psutil in c:\\users\\santi\\onedrive\\escritorio\\maestria\\entornos\\clases\\lib\\site-packages (from pygwalker) (7.0.0)\n",
      "Requirement already satisfied: pyarrow in c:\\users\\santi\\onedrive\\escritorio\\maestria\\entornos\\clases\\lib\\site-packages (from pygwalker) (19.0.1)\n",
      "Requirement already satisfied: pydantic in c:\\users\\santi\\onedrive\\escritorio\\maestria\\entornos\\clases\\lib\\site-packages (from pygwalker) (2.11.3)\n",
      "Requirement already satisfied: pytz in c:\\users\\santi\\onedrive\\escritorio\\maestria\\entornos\\clases\\lib\\site-packages (from pygwalker) (2025.2)\n",
      "Requirement already satisfied: quickjs in c:\\users\\santi\\onedrive\\escritorio\\maestria\\entornos\\clases\\lib\\site-packages (from pygwalker) (1.19.4)\n",
      "Requirement already satisfied: requests in c:\\users\\santi\\onedrive\\escritorio\\maestria\\entornos\\clases\\lib\\site-packages (from pygwalker) (2.32.3)\n",
      "Requirement already satisfied: segment-analytics-python==2.2.3 in c:\\users\\santi\\onedrive\\escritorio\\maestria\\entornos\\clases\\lib\\site-packages (from pygwalker) (2.2.3)\n",
      "Requirement already satisfied: sqlalchemy in c:\\users\\santi\\onedrive\\escritorio\\maestria\\entornos\\clases\\lib\\site-packages (from pygwalker) (2.0.40)\n",
      "Requirement already satisfied: sqlglot>=23.15.8 in c:\\users\\santi\\onedrive\\escritorio\\maestria\\entornos\\clases\\lib\\site-packages (from pygwalker) (26.16.2)\n",
      "Requirement already satisfied: traitlets in c:\\users\\santi\\onedrive\\escritorio\\maestria\\entornos\\clases\\lib\\site-packages (from pygwalker) (5.14.3)\n",
      "Requirement already satisfied: typing-extensions in c:\\users\\santi\\onedrive\\escritorio\\maestria\\entornos\\clases\\lib\\site-packages (from pygwalker) (4.13.2)\n",
      "Requirement already satisfied: wasmtime>=12.0.0 in c:\\users\\santi\\onedrive\\escritorio\\maestria\\entornos\\clases\\lib\\site-packages (from gw-dsl-parser==0.1.49.1->pygwalker) (32.0.0)\n",
      "Requirement already satisfied: backoff>=2.2.1 in c:\\users\\santi\\onedrive\\escritorio\\maestria\\entornos\\clases\\lib\\site-packages (from kanaries-track==0.0.5->pygwalker) (2.2.1)\n",
      "Requirement already satisfied: dateutils>=0.6.12 in c:\\users\\santi\\onedrive\\escritorio\\maestria\\entornos\\clases\\lib\\site-packages (from kanaries-track==0.0.5->pygwalker) (0.6.12)\n",
      "Requirement already satisfied: monotonic~=1.5 in c:\\users\\santi\\onedrive\\escritorio\\maestria\\entornos\\clases\\lib\\site-packages (from segment-analytics-python==2.2.3->pygwalker) (1.6)\n",
      "Requirement already satisfied: python-dateutil~=2.2 in c:\\users\\santi\\onedrive\\escritorio\\maestria\\entornos\\clases\\lib\\site-packages (from segment-analytics-python==2.2.3->pygwalker) (2.9.0.post0)\n",
      "Requirement already satisfied: comm>=0.1.3 in c:\\users\\santi\\onedrive\\escritorio\\maestria\\entornos\\clases\\lib\\site-packages (from ipywidgets->pygwalker) (0.2.2)\n",
      "Requirement already satisfied: widgetsnbextension~=4.0.14 in c:\\users\\santi\\onedrive\\escritorio\\maestria\\entornos\\clases\\lib\\site-packages (from ipywidgets->pygwalker) (4.0.14)\n",
      "Requirement already satisfied: jupyterlab_widgets~=3.0.14 in c:\\users\\santi\\onedrive\\escritorio\\maestria\\entornos\\clases\\lib\\site-packages (from ipywidgets->pygwalker) (3.0.14)\n",
      "Requirement already satisfied: six>=1.5 in c:\\users\\santi\\onedrive\\escritorio\\maestria\\entornos\\clases\\lib\\site-packages (from python-dateutil~=2.2->segment-analytics-python==2.2.3->pygwalker) (1.17.0)\n",
      "Requirement already satisfied: charset-normalizer<4,>=2 in c:\\users\\santi\\onedrive\\escritorio\\maestria\\entornos\\clases\\lib\\site-packages (from requests->pygwalker) (3.4.2)\n",
      "Requirement already satisfied: idna<4,>=2.5 in c:\\users\\santi\\onedrive\\escritorio\\maestria\\entornos\\clases\\lib\\site-packages (from requests->pygwalker) (3.10)\n",
      "Requirement already satisfied: urllib3<3,>=1.21.1 in c:\\users\\santi\\onedrive\\escritorio\\maestria\\entornos\\clases\\lib\\site-packages (from requests->pygwalker) (2.4.0)\n",
      "Requirement already satisfied: certifi>=2017.4.17 in c:\\users\\santi\\onedrive\\escritorio\\maestria\\entornos\\clases\\lib\\site-packages (from requests->pygwalker) (2025.4.26)\n",
      "Requirement already satisfied: colorama in c:\\users\\santi\\onedrive\\escritorio\\maestria\\entornos\\clases\\lib\\site-packages (from ipython->pygwalker) (0.4.6)\n",
      "Requirement already satisfied: decorator in c:\\users\\santi\\onedrive\\escritorio\\maestria\\entornos\\clases\\lib\\site-packages (from ipython->pygwalker) (5.2.1)\n",
      "Requirement already satisfied: ipython-pygments-lexers in c:\\users\\santi\\onedrive\\escritorio\\maestria\\entornos\\clases\\lib\\site-packages (from ipython->pygwalker) (1.1.1)\n",
      "Requirement already satisfied: jedi>=0.16 in c:\\users\\santi\\onedrive\\escritorio\\maestria\\entornos\\clases\\lib\\site-packages (from ipython->pygwalker) (0.19.2)\n",
      "Requirement already satisfied: matplotlib-inline in c:\\users\\santi\\onedrive\\escritorio\\maestria\\entornos\\clases\\lib\\site-packages (from ipython->pygwalker) (0.1.7)\n",
      "Requirement already satisfied: prompt_toolkit<3.1.0,>=3.0.41 in c:\\users\\santi\\onedrive\\escritorio\\maestria\\entornos\\clases\\lib\\site-packages (from ipython->pygwalker) (3.0.51)\n",
      "Requirement already satisfied: pygments>=2.4.0 in c:\\users\\santi\\onedrive\\escritorio\\maestria\\entornos\\clases\\lib\\site-packages (from ipython->pygwalker) (2.19.1)\n",
      "Requirement already satisfied: stack_data in c:\\users\\santi\\onedrive\\escritorio\\maestria\\entornos\\clases\\lib\\site-packages (from ipython->pygwalker) (0.6.3)\n",
      "Requirement already satisfied: wcwidth in c:\\users\\santi\\onedrive\\escritorio\\maestria\\entornos\\clases\\lib\\site-packages (from prompt_toolkit<3.1.0,>=3.0.41->ipython->pygwalker) (0.2.13)\n",
      "Requirement already satisfied: parso<0.9.0,>=0.8.4 in c:\\users\\santi\\onedrive\\escritorio\\maestria\\entornos\\clases\\lib\\site-packages (from jedi>=0.16->ipython->pygwalker) (0.8.4)\n",
      "Requirement already satisfied: importlib_resources>=5.10 in c:\\users\\santi\\onedrive\\escritorio\\maestria\\entornos\\clases\\lib\\site-packages (from wasmtime>=12.0.0->gw-dsl-parser==0.1.49.1->pygwalker) (6.5.2)\n",
      "Requirement already satisfied: psygnal>=0.8.1 in c:\\users\\santi\\onedrive\\escritorio\\maestria\\entornos\\clases\\lib\\site-packages (from anywidget->pygwalker) (0.12.0)\n",
      "Requirement already satisfied: types-python-dateutil>=2.8.10 in c:\\users\\santi\\onedrive\\escritorio\\maestria\\entornos\\clases\\lib\\site-packages (from arrow->pygwalker) (2.9.0.20241206)\n",
      "Requirement already satisfied: MarkupSafe>=2.0 in c:\\users\\santi\\onedrive\\escritorio\\maestria\\entornos\\clases\\lib\\site-packages (from jinja2->pygwalker) (3.0.2)\n",
      "Requirement already satisfied: tzdata>=2022.7 in c:\\users\\santi\\onedrive\\escritorio\\maestria\\entornos\\clases\\lib\\site-packages (from pandas->pygwalker) (2025.2)\n",
      "Requirement already satisfied: annotated-types>=0.6.0 in c:\\users\\santi\\onedrive\\escritorio\\maestria\\entornos\\clases\\lib\\site-packages (from pydantic->pygwalker) (0.7.0)\n",
      "Requirement already satisfied: pydantic-core==2.33.1 in c:\\users\\santi\\onedrive\\escritorio\\maestria\\entornos\\clases\\lib\\site-packages (from pydantic->pygwalker) (2.33.1)\n",
      "Requirement already satisfied: typing-inspection>=0.4.0 in c:\\users\\santi\\onedrive\\escritorio\\maestria\\entornos\\clases\\lib\\site-packages (from pydantic->pygwalker) (0.4.0)\n",
      "Requirement already satisfied: greenlet>=1 in c:\\users\\santi\\onedrive\\escritorio\\maestria\\entornos\\clases\\lib\\site-packages (from sqlalchemy->pygwalker) (3.2.1)\n",
      "Requirement already satisfied: executing>=1.2.0 in c:\\users\\santi\\onedrive\\escritorio\\maestria\\entornos\\clases\\lib\\site-packages (from stack_data->ipython->pygwalker) (2.2.0)\n",
      "Requirement already satisfied: asttokens>=2.1.0 in c:\\users\\santi\\onedrive\\escritorio\\maestria\\entornos\\clases\\lib\\site-packages (from stack_data->ipython->pygwalker) (3.0.0)\n",
      "Requirement already satisfied: pure-eval in c:\\users\\santi\\onedrive\\escritorio\\maestria\\entornos\\clases\\lib\\site-packages (from stack_data->ipython->pygwalker) (0.2.3)\n"
     ]
    }
   ],
   "source": [
    "# Graficar en pywalker\n",
    "!pip install pygwalker"
   ]
  },
  {
   "cell_type": "code",
   "execution_count": null,
   "id": "a5b2a458-f217-4fd0-a83e-8861604eb8de",
   "metadata": {},
   "outputs": [
    {
     "data": {
      "application/vnd.jupyter.widget-view+json": {
       "model_id": "e8e02dab36034d5da3df2d63f1b9a316",
       "version_major": 2,
       "version_minor": 0
      },
      "text/plain": [
       "Box(children=(HTML(value='\\n<div id=\"ifr-pyg-000635e81a21f11bG89fpQKRkv4yc0b6\" style=\"height: auto\">\\n    <hea…"
      ]
     },
     "metadata": {},
     "output_type": "display_data"
    },
    {
     "data": {
      "text/html": [
       "<script>\n",
       "    window.addEventListener(\"message\", function(event) {\n",
       "        const backgroundMap = {\n",
       "            \"dark\": \"hsl(240 10% 3.9%)\",\n",
       "            \"light\": \"hsl(0 0 100%)\",\n",
       "        };\n",
       "        const colorMap = {\n",
       "            \"dark\": \"hsl(0 0% 98%)\",\n",
       "            \"light\": \"hsl(240 10% 3.9%)\",\n",
       "        };\n",
       "        if (event.data.action === \"changeAppearance\" && event.data.gid === \"000635e81a21f11bG89fpQKRkv4yc0b6\") {\n",
       "            var iframe = document.getElementById(\"gwalker-000635e81a21f11bG89fpQKRkv4yc0b6\");\n",
       "            iframe.style.background  = backgroundMap[event.data.appearance];\n",
       "            iframe.style.color = colorMap[event.data.appearance];\n",
       "        }\n",
       "    });\n",
       "</script>"
      ],
      "text/plain": [
       "<IPython.core.display.HTML object>"
      ]
     },
     "metadata": {},
     "output_type": "display_data"
    },
    {
     "data": {
      "text/html": [],
      "text/plain": [
       "<IPython.core.display.HTML object>"
      ]
     },
     "metadata": {},
     "output_type": "display_data"
    }
   ],
   "source": [
    "# Iniciar la interfaz interactiva\n",
    "pyg.walk(df_combinada)"
   ]
  },
  {
   "cell_type": "code",
   "execution_count": null,
   "id": "33ed6b9e-9c97-462d-9b58-3a571725bf03",
   "metadata": {},
   "outputs": [],
   "source": []
  }
 ],
 "metadata": {
  "kernelspec": {
   "display_name": "Python 3 (ipykernel)",
   "language": "python",
   "name": "python3"
  },
  "language_info": {
   "codemirror_mode": {
    "name": "ipython",
    "version": 3
   },
   "file_extension": ".py",
   "mimetype": "text/x-python",
   "name": "python",
   "nbconvert_exporter": "python",
   "pygments_lexer": "ipython3",
   "version": "3.12.10"
  }
 },
 "nbformat": 4,
 "nbformat_minor": 5
}
