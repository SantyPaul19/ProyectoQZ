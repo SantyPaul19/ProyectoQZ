{
 "cells": [
  {
   "cell_type": "code",
   "execution_count": 1,
   "id": "51147fe7-a909-4c37-9c76-82590197bc77",
   "metadata": {},
   "outputs": [],
   "source": [
    "import pandas as pd\n",
    "import sqlite3"
   ]
  },
  {
   "cell_type": "code",
   "execution_count": 2,
   "id": "0efd087a-6915-40bb-9dbf-a4998eb028b1",
   "metadata": {},
   "outputs": [],
   "source": [
    "# Leer CSV\n",
    "df = pd.read_csv('..//data/diabetes2.csv', nrows=768)"
   ]
  },
  {
   "cell_type": "code",
   "execution_count": 3,
   "id": "b218d374-8390-403b-8947-12534044234a",
   "metadata": {},
   "outputs": [],
   "source": [
    "# Conectar o crear base de datos SQLite (diabetes2 .db)\n",
    "conn = sqlite3.connect('..//data//diabetes2.db')"
   ]
  },
  {
   "cell_type": "code",
   "execution_count": 4,
   "id": "417f3e72-8e2d-4f15-8039-14088c48b6ee",
   "metadata": {},
   "outputs": [
    {
     "data": {
      "text/plain": [
       "768"
      ]
     },
     "execution_count": 4,
     "metadata": {},
     "output_type": "execute_result"
    }
   ],
   "source": [
    "# Cargar el DataFrame a una tabla SQLite llamada 'diabetes_tab'\n",
    "df.to_sql('diabetes_tab', conn, if_exists='replace', index=False)"
   ]
  },
  {
   "cell_type": "code",
   "execution_count": 5,
   "id": "9b505ad3-c395-4d50-982a-8513736467cc",
   "metadata": {},
   "outputs": [],
   "source": [
    "# Cerrar conexión\n",
    "conn.close()"
   ]
  },
  {
   "cell_type": "code",
   "execution_count": null,
   "id": "dc59fe88-0cb9-4c3d-9489-e087121fc987",
   "metadata": {},
   "outputs": [],
   "source": []
  }
 ],
 "metadata": {
  "kernelspec": {
   "display_name": "Python 3 (ipykernel)",
   "language": "python",
   "name": "python3"
  },
  "language_info": {
   "codemirror_mode": {
    "name": "ipython",
    "version": 3
   },
   "file_extension": ".py",
   "mimetype": "text/x-python",
   "name": "python",
   "nbconvert_exporter": "python",
   "pygments_lexer": "ipython3",
   "version": "3.12.10"
  }
 },
 "nbformat": 4,
 "nbformat_minor": 5
}
